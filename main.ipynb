{
  "nbformat": 4,
  "nbformat_minor": 0,
  "metadata": {
    "colab": {
      "provenance": []
    },
    "kernelspec": {
      "name": "python3",
      "display_name": "Python 3"
    },
    "language_info": {
      "name": "python"
    }
  },
  "cells": [
    {
      "cell_type": "markdown",
      "source": [
        "# AP-v9-5-Model training and testing"
      ],
      "metadata": {
        "id": "i1I2ubS4PUIW"
      }
    },
    {
      "cell_type": "code",
      "source": [
        "import re\n",
        "\n",
        "import torch\n",
        "import pandas as pd\n",
        "import torch.nn as nn\n",
        "import torch.nn.functional as F\n",
        "import numpy as np\n",
        "import matplotlib.pyplot as plt\n",
        "import nltk\n",
        "\n",
        "from typing import List\n",
        "\n",
        "from torch.utils.data import TensorDataset, DataLoader\n",
        "from sklearn.feature_extraction.text import CountVectorizer\n",
        "from sklearn.model_selection import train_test_split\n",
        "from nltk.corpus import stopwords\n",
        "from pymystem3 import Mystem"
      ],
      "metadata": {
        "id": "Whz0qJtaXfen"
      },
      "execution_count": 40,
      "outputs": []
    },
    {
      "cell_type": "markdown",
      "source": [
        "Loading dataset and write to pandas.Dataframe"
      ],
      "metadata": {
        "id": "p74-GaxLPcan"
      }
    },
    {
      "cell_type": "code",
      "source": [
        "df = pd.read_csv('/content/drive/MyDrive/Colab Notebooks/full_data_lemm.csv')\n",
        "df = df.drop(df.columns[[0]], axis = 1)\n",
        "df.iloc[:,0]-=1\n",
        "data = df.dropna()\n",
        "\n",
        "print(data)"
      ],
      "metadata": {
        "colab": {
          "base_uri": "https://localhost:8080/"
        },
        "id": "aRW6sDu2msp3",
        "outputId": "70523304-aa47-42bb-9e45-0de45e7a2a1a"
      },
      "execution_count": 41,
      "outputs": [
        {
          "output_type": "stream",
          "name": "stdout",
          "text": [
            "      num                                               text\n",
            "0       0  заказывать четыре кресло салон сентябрь привоз...\n",
            "1       0  вайбериз это бандитский организация заказывать...\n",
            "2       0  добрый время сутки читать данный текст давний ...\n",
            "3       0  приветствовать год активно заказывать wb разли...\n",
            "4       0  добрый день сталкиваться платформа вайлдберис ...\n",
            "...   ...                                                ...\n",
            "4995    4  последний время время изоляция находить отличн...\n",
            "4996    4  давно пользоваться услуга данный маркетплейс н...\n",
            "4997    4  интернет магазин отличный пользоваться протяже...\n",
            "4998    4  очень крутой сайт приложение открывать недавно...\n",
            "4999    4  добрый день понимать ругать сервис минус наход...\n",
            "\n",
            "[5000 rows x 2 columns]\n"
          ]
        }
      ]
    },
    {
      "cell_type": "code",
      "source": [
        "max_words = 31887\n",
        "cv = CountVectorizer(max_features=max_words)\n",
        "sparse_matrix = cv.fit_transform(data['text']).toarray()\n",
        "feature_names = cv.get_feature_names_out()\n",
        "words = feature_names.tolist()\n",
        "\n",
        "print(feature_names)\n",
        "print(sparse_matrix.shape)"
      ],
      "metadata": {
        "id": "masbtEuaXjmp",
        "colab": {
          "base_uri": "https://localhost:8080/"
        },
        "outputId": "75f483b0-19d6-4f8f-873a-2ba8a7feb6d4"
      },
      "execution_count": 42,
      "outputs": [
        {
          "output_type": "stream",
          "name": "stdout",
          "text": [
            "['acasta' 'acer' 'acoola' ... 'ячменный' 'ящик' 'ящикя']\n",
            "(5000, 31887)\n"
          ]
        }
      ]
    },
    {
      "cell_type": "markdown",
      "source": [
        "Spliting the dataset in the ratio train, test, val: 80,10,10"
      ],
      "metadata": {
        "id": "SmJh96GrPkR7"
      }
    },
    {
      "cell_type": "code",
      "source": [
        "x_train, x_test, y_train, y_test = train_test_split(sparse_matrix, np.array(data['num']),test_size = 0.1, shuffle = True)\n",
        "print(len(x_train))\n",
        "x_train, x_val, y_train, y_val = train_test_split(x_train, y_train, test_size = 0.1/0.9, shuffle = True)\n",
        "print(len(x_train))"
      ],
      "metadata": {
        "colab": {
          "base_uri": "https://localhost:8080/"
        },
        "id": "437izCn8mgWc",
        "outputId": "a9842e49-e05a-452e-d143-016110c04929"
      },
      "execution_count": 68,
      "outputs": [
        {
          "output_type": "stream",
          "name": "stdout",
          "text": [
            "4500\n",
            "3999\n"
          ]
        }
      ]
    },
    {
      "cell_type": "markdown",
      "source": [
        "Casting pd.array to tensor and creating TensorDataset and DataLoader"
      ],
      "metadata": {
        "id": "kQdjmulnPpuF"
      }
    },
    {
      "cell_type": "code",
      "source": [
        "batch_size = 200\n",
        "learning_rate = 0.01\n",
        "epochs = 5\n",
        "\n",
        "train_features = torch.Tensor(x_train)\n",
        "train_targets = torch.Tensor(y_train)\n",
        "val_features = torch.Tensor(x_val)\n",
        "val_targets = torch.Tensor(y_val)\n",
        "test_features = torch.Tensor(x_test)\n",
        "test_targets = torch.Tensor(y_test)\n",
        "\n",
        "train = TensorDataset(train_features, train_targets)\n",
        "\n",
        "train_loader = DataLoader(train, batch_size=batch_size, shuffle=True)"
      ],
      "metadata": {
        "id": "VQLoRKb_deBE"
      },
      "execution_count": 69,
      "outputs": []
    },
    {
      "cell_type": "markdown",
      "source": [
        "Creating a LogisticRegression class"
      ],
      "metadata": {
        "id": "8HhUiMz9PspO"
      }
    },
    {
      "cell_type": "code",
      "source": [
        "class LogisticRegression(nn.Module):\n",
        "    def __init__(self) -> None:\n",
        "      \"\"\"\n",
        "      Constructor of model\n",
        "      \"\"\"\n",
        "      super(LogisticRegression, self).__init__()\n",
        "      self.linear1 = nn.Linear(31887, 1000)\n",
        "      self.linear2 = nn.Linear(1000, 100)\n",
        "      self.linear3 = nn.Linear(100, 5)\n",
        "\n",
        "    def forward(self, x:torch.Tensor) -> torch.Tensor:\n",
        "      \"\"\"Function processes the tensor using the relu function\n",
        "\n",
        "      Args:\n",
        "        x (torch.Tensor): tensor for processes\n",
        "\n",
        "      Returns:\n",
        "        torch.Tensor: processed tensor\n",
        "      \"\"\"\n",
        "      x = F.relu(self.linear1(x))\n",
        "      x = F.relu(self.linear2(x))\n",
        "      x = self.linear3(x)\n",
        "      return x"
      ],
      "metadata": {
        "id": "kcw99RPJX_V-"
      },
      "execution_count": 70,
      "outputs": []
    },
    {
      "cell_type": "code",
      "source": [
        "model = LogisticRegression()\n",
        "criterion = nn.CrossEntropyLoss()\n",
        "optimizer = torch.optim.Adam(params=model.parameters() , lr=learning_rate)"
      ],
      "metadata": {
        "id": "nv7UTYEYYFHX"
      },
      "execution_count": 71,
      "outputs": []
    },
    {
      "cell_type": "code",
      "source": [
        "model.load_state_dict(torch.load(\"/content/drive/MyDrive/Colab Notebooks/models/model-b500-lr0001-e10.pt\"))"
      ],
      "metadata": {
        "colab": {
          "base_uri": "https://localhost:8080/"
        },
        "id": "rYVjO7Ua7U1U",
        "outputId": "73515276-ab6a-4fee-814f-b264d1992f0e"
      },
      "execution_count": 72,
      "outputs": [
        {
          "output_type": "execute_result",
          "data": {
            "text/plain": [
              "<All keys matched successfully>"
            ]
          },
          "metadata": {},
          "execution_count": 72
        }
      ]
    },
    {
      "cell_type": "markdown",
      "source": [
        "Train loop"
      ],
      "metadata": {
        "id": "D1MsmUZ2P1Pk"
      }
    },
    {
      "cell_type": "code",
      "source": [
        "model.train()\n",
        "losses = []\n",
        "for epoch in range(epochs):\n",
        "  loss_values = []\n",
        "  for x_batch, y_batch in train_loader:\n",
        "    optimizer.zero_grad()\n",
        "    y_pred = model(x_batch)\n",
        "    loss = criterion(y_pred, y_batch.long())\n",
        "    loss_values.append(loss.item())\n",
        "    pred = torch.max(y_pred, 1)[1].eq(y_batch).sum()\n",
        "    acc = pred * 100.0 / len(x_batch)\n",
        "    loss.backward() #gradient of current tensor\n",
        "    optimizer.step()\n",
        "  losses.append(np.array(loss_values).mean())\n",
        "  print('Epoch: {}, Loss: {}, Accuracy: {}%'.format(epoch+1, losses[-1], acc.numpy()))"
      ],
      "metadata": {
        "colab": {
          "base_uri": "https://localhost:8080/"
        },
        "id": "Jvwiv6YRYI1L",
        "outputId": "6d5ec2cf-4507-4122-e745-ee3c47cb8fcc"
      },
      "execution_count": 60,
      "outputs": [
        {
          "output_type": "stream",
          "name": "stdout",
          "text": [
            "Epoch: 1, Loss: 1.3131204307079316, Accuracy: 48.743717193603516%\n",
            "Epoch: 2, Loss: 0.6508989647030831, Accuracy: 76.38191223144531%\n",
            "Epoch: 3, Loss: 0.1649612385779619, Accuracy: 91.45728302001953%\n",
            "Epoch: 4, Loss: 0.030703196348622442, Accuracy: 100.0%\n",
            "Epoch: 5, Loss: 0.008002102345926687, Accuracy: 98.49246215820312%\n"
          ]
        }
      ]
    },
    {
      "cell_type": "markdown",
      "source": [
        "Loss Value test vs Epochs plot"
      ],
      "metadata": {
        "id": "tEzBMv2lP4rT"
      }
    },
    {
      "cell_type": "code",
      "source": [
        "plt.plot(losses)\n",
        "plt.title('Loss Value test vs Epochs')\n",
        "plt.xlabel('Epochs')\n",
        "plt.ylabel('Loss')\n",
        "plt.legend(['Loss'])\n",
        "plt.show()"
      ],
      "metadata": {
        "colab": {
          "base_uri": "https://localhost:8080/",
          "height": 472
        },
        "id": "N5AzlCMCbWJo",
        "outputId": "8af282f8-a366-4557-df5b-d8ecccd56131"
      },
      "execution_count": 61,
      "outputs": [
        {
          "output_type": "display_data",
          "data": {
            "text/plain": [
              "<Figure size 640x480 with 1 Axes>"
            ],
            "image/png": "[encoded data removed]"
          },
          "metadata": {}
        }
      ]
    },
    {
      "cell_type": "markdown",
      "source": [
        "Validation loss plot"
      ],
      "metadata": {
        "id": "fbbNrP9kQMgK"
      }
    },
    {
      "cell_type": "code",
      "source": [
        "model.eval()\n",
        "val_loss_list = []\n",
        "with torch.no_grad():\n",
        "  for i in range(len(val_features)):\n",
        "    y_pred = model(val_features[i])\n",
        "    loss = criterion(y_pred, val_targets[i].long())\n",
        "    val_loss_list.append(loss)\n",
        "plt.plot(val_loss_list)"
      ],
      "metadata": {
        "id": "rKdYtmCys0sN",
        "colab": {
          "base_uri": "https://localhost:8080/",
          "height": 450
        },
        "outputId": "6a7cbda3-8f79-4018-9ed6-e899cdf3e7ac"
      },
      "execution_count": 62,
      "outputs": [
        {
          "output_type": "execute_result",
          "data": {
            "text/plain": [
              "[<matplotlib.lines.Line2D at 0x79d1b60733d0>]"
            ]
          },
          "metadata": {},
          "execution_count": 62
        },
        {
          "output_type": "display_data",
          "data": {
            "text/plain": [
              "<Figure size 640x480 with 1 Axes>"
            ],
            "image/png": "[encoded data removed]"
          },
          "metadata": {}
        }
      ]
    },
    {
      "cell_type": "markdown",
      "source": [
        "Сhecking the model on a validation set"
      ],
      "metadata": {
        "id": "bmM-UgctQPhz"
      }
    },
    {
      "cell_type": "code",
      "source": [
        "model.eval()\n",
        "with torch.no_grad():\n",
        "    y_pred = model(val_features)\n",
        "    loss = criterion(y_pred, val_targets.long())\n",
        "    pred = torch.max(y_pred, 1)[1].eq(val_targets).sum()\n",
        "    print (\"Accuracy : {}%\".format(100*pred/len(test_features)))"
      ],
      "metadata": {
        "colab": {
          "base_uri": "https://localhost:8080/"
        },
        "id": "wIwQEERjbdTc",
        "outputId": "d09ca95e-dbac-492f-f260-206a1aa98feb"
      },
      "execution_count": 63,
      "outputs": [
        {
          "output_type": "stream",
          "name": "stdout",
          "text": [
            "Accuracy : 45.599998474121094%\n"
          ]
        }
      ]
    },
    {
      "cell_type": "markdown",
      "source": [
        "Cheking the model on random feedback from original dataset"
      ],
      "metadata": {
        "id": "Z7-4Ln2WQYQW"
      }
    },
    {
      "cell_type": "code",
      "source": [
        "test_1 = cv.fit_transform(data['text']).toarray()\n",
        "model.eval()\n",
        "with torch.no_grad():\n",
        "    y_pred = model(torch.Tensor(test_1[4105]))\n",
        "    print(y_pred)"
      ],
      "metadata": {
        "colab": {
          "base_uri": "https://localhost:8080/"
        },
        "id": "GXGConRz733q",
        "outputId": "7705ad22-66f5-4462-e8ba-ba0f1872658c"
      },
      "execution_count": 73,
      "outputs": [
        {
          "output_type": "stream",
          "name": "stdout",
          "text": [
            "tensor([ -7.5980, -15.0139,  -4.1915,   1.5204,  22.1070])\n"
          ]
        }
      ]
    },
    {
      "cell_type": "code",
      "source": [
        "print(type(x_val[1]))\n",
        "count = 0\n",
        "for text in sparse_matrix:\n",
        "  if np.array_equal(x_val[1], text):\n",
        "    print(text)\n",
        "    print(count)\n",
        "    break\n",
        "  else:\n",
        "    count+=1\n",
        "\n",
        "print(data.iloc[count])\n",
        "model.eval()\n",
        "with torch.no_grad():\n",
        "  y_pred = model(torch.Tensor(x_val[1]))\n",
        "  print(y_pred)\n"
      ],
      "metadata": {
        "colab": {
          "base_uri": "https://localhost:8080/"
        },
        "id": "pVOXX3WBwNMx",
        "outputId": "6417393d-8c9d-4a37-a5c9-504cc63d1100"
      },
      "execution_count": 74,
      "outputs": [
        {
          "output_type": "stream",
          "name": "stdout",
          "text": [
            "<class 'numpy.ndarray'>\n",
            "[0 0 0 ... 0 0 0]\n",
            "1067\n",
            "num                                                     1\n",
            "text    являться клиент площадка год сначала недоверие...\n",
            "Name: 1067, dtype: object\n",
            "tensor([-1.7895,  9.9427,  1.8903, -2.2441, -7.0697])\n"
          ]
        }
      ]
    },
    {
      "cell_type": "markdown",
      "source": [
        "Saving the model"
      ],
      "metadata": {
        "id": "q_LTIlH-Qffa"
      }
    },
    {
      "cell_type": "code",
      "source": [
        "torch.save(model.state_dict(), \"/content/drive/MyDrive/Colab Notebooks/models/model-b1000-lr0001-e10.pt\")"
      ],
      "metadata": {
        "id": "U80ZTnWpBOnU"
      },
      "execution_count": null,
      "outputs": []
    },
    {
      "cell_type": "markdown",
      "source": [
        "Functions for creating your own vector from random feedback"
      ],
      "metadata": {
        "id": "0exeACFbQhW3"
      }
    },
    {
      "cell_type": "code",
      "source": [
        "def text_update(text: str) -> List[str]:\n",
        "    \"\"\"Function remove from text punctuation marks and split it\n",
        "\n",
        "    Args:\n",
        "        text (str): text for update\n",
        "\n",
        "    Returns:\n",
        "        List[str]: List with words from text\n",
        "    \"\"\"\n",
        "    text = re.sub(r\"[^\\w\\s]\", \"\", text)\n",
        "    text = text.split()\n",
        "    return ' '.join(text)\n",
        "\n",
        "def preprocess_text(text: str) -> List[str]:\n",
        "    \"\"\"Function gets text, lemmatize them and removes stopwords\n",
        "\n",
        "    Args:\n",
        "        text (str): text for preprocess\n",
        "\n",
        "    Returns:\n",
        "        List[str]: preprocessed text\n",
        "    \"\"\"\n",
        "    mystem = Mystem()\n",
        "    #nltk.download('stopwords')\n",
        "    russian_stopwords = stopwords.words(\"russian\")\n",
        "    tokens = mystem.lemmatize(text.lower())\n",
        "    tokens = [token for token in tokens if token not in russian_stopwords]\n",
        "    text = \" \".join(tokens)\n",
        "    return text.split()\n",
        "\n",
        "def my_vect(text:str)->List[float]:\n",
        "  \"\"\"function vectorizes text\n",
        "\n",
        "    Args:\n",
        "        text (str): text for loading into the model\n",
        "\n",
        "    Returns:\n",
        "        List[float]: List of words values\n",
        "    \"\"\"\n",
        "  tensor = 31887*[0]\n",
        "  text = preprocess_text(text_update(text))\n",
        "  for word in set(text):\n",
        "    if word in words:\n",
        "      tensor[words.index(word)] = text.count(word)\n",
        "  return tensor"
      ],
      "metadata": {
        "id": "tj9ZJRxDMLKO"
      },
      "execution_count": 66,
      "outputs": []
    },
    {
      "cell_type": "markdown",
      "source": [
        "Function for checking the model against random feedback"
      ],
      "metadata": {
        "id": "jxOEVfr5Qjex"
      }
    },
    {
      "cell_type": "code",
      "source": [
        "def predict(text: str) -> torch.Tensor:\n",
        "  \"\"\"_summary_The function converts the text into a tensor and loads it into the model for testing\n",
        "\n",
        "  Args:\n",
        "      text (str): text for testing\n",
        "\n",
        "  Returns:\n",
        "      torch.Tensor: tensor of predictions\n",
        "  \"\"\"\n",
        "  model.eval()\n",
        "  with torch.no_grad():\n",
        "    y_pred = model(torch.Tensor(my_vect(text)))\n",
        "    print(type(y_pred))\n",
        "    return(y_pred)\n",
        "\n",
        "print(predict('Время от времени пользуемся услугами этого интернет магазина, особенно было актуально в период, лакдаун когда все магазины были закрыты. А одежда и обувь была нужна. Как раз на помощь пришёл магазин Wildberries. Но и до всяких корона вирусов мы ей пользовались.'))"
      ],
      "metadata": {
        "colab": {
          "base_uri": "https://localhost:8080/"
        },
        "id": "wvu2MnhxYx1w",
        "outputId": "350cf694-5e34-4544-e0e5-e685a500637e"
      },
      "execution_count": 75,
      "outputs": [
        {
          "output_type": "stream",
          "name": "stdout",
          "text": [
            "<class 'torch.Tensor'>\n",
            "tensor([-1.1317,  0.4172, -1.0526, -1.8484,  3.2456])\n"
          ]
        }
      ]
    }
  ]
}
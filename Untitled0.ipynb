{
  "nbformat": 4,
  "nbformat_minor": 0,
  "metadata": {
    "colab": {
      "provenance": []
    },
    "kernelspec": {
      "name": "python3",
      "display_name": "Python 3"
    },
    "language_info": {
      "name": "python"
    }
  },
  "cells": [
    {
      "cell_type": "code",
      "execution_count": 838,
      "metadata": {
        "id": "pnq3Iagej8UC"
      },
      "outputs": [],
      "source": [
        "import pandas as pd"
      ]
    },
    {
      "cell_type": "code",
      "source": [
        "import torch\n",
        "import torch.nn as nn\n",
        "import torch.nn.functional as F\n",
        "from torch.autograd import Variable\n",
        "import numpy as np\n",
        "import matplotlib.pyplot as plt\n",
        "\n",
        "from torch.utils.data import TensorDataset, DataLoader\n",
        "\n",
        "from sklearn.feature_extraction.text import CountVectorizer\n",
        "from sklearn.model_selection import train_test_split\n",
        "from nltk.corpus import stopwords\n",
        "from pymystem3 import Mystem\n",
        "\n",
        "import re"
      ],
      "metadata": {
        "id": "Whz0qJtaXfen"
      },
      "execution_count": 839,
      "outputs": []
    },
    {
      "cell_type": "code",
      "source": [
        "df = pd.read_csv('/content/full_data_lemm.csv')\n",
        "df = df.drop(df.columns[[0]], axis = 1)\n",
        "df.iloc[:,0]-=1\n",
        "data = df.dropna()\n",
        "\n",
        "\n",
        "print(data)"
      ],
      "metadata": {
        "colab": {
          "base_uri": "https://localhost:8080/"
        },
        "id": "aRW6sDu2msp3",
        "outputId": "4ec7f387-81d1-4f18-c8ca-fe563e4fb745"
      },
      "execution_count": 840,
      "outputs": [
        {
          "output_type": "stream",
          "name": "stdout",
          "text": [
            "      num                                               text\n",
            "0       0  заказывать четыре кресло салон сентябрь привоз...\n",
            "1       0  вайбериз это бандитский организация заказывать...\n",
            "2       0  добрый время сутки читать данный текст давний ...\n",
            "3       0  приветствовать год активно заказывать wb разли...\n",
            "4       0  добрый день сталкиваться платформа вайлдберис ...\n",
            "...   ...                                                ...\n",
            "4995    4  последний время время изоляция находить отличн...\n",
            "4996    4  давно пользоваться услуга данный маркетплейс н...\n",
            "4997    4  интернет магазин отличный пользоваться протяже...\n",
            "4998    4  очень крутой сайт приложение открывать недавно...\n",
            "4999    4  добрый день понимать ругать сервис минус наход...\n",
            "\n",
            "[5000 rows x 2 columns]\n"
          ]
        }
      ]
    },
    {
      "cell_type": "code",
      "source": [
        "max_words = 31887\n",
        "cv = CountVectorizer(max_features=max_words)\n",
        "sparse_matrix = cv.fit_transform(data['text']).toarray()\n",
        "feature_names = cv.get_feature_names_out()\n",
        "words = feature_names.tolist()\n",
        "print(feature_names)\n",
        "print(sparse_matrix)"
      ],
      "metadata": {
        "id": "masbtEuaXjmp",
        "colab": {
          "base_uri": "https://localhost:8080/"
        },
        "outputId": "10606b2e-aac8-46aa-a877-39d5e14aa457"
      },
      "execution_count": 841,
      "outputs": [
        {
          "output_type": "stream",
          "name": "stdout",
          "text": [
            "['acasta' 'acer' 'acoola' ... 'ячменный' 'ящик' 'ящикя']\n",
            "[[0 0 0 ... 0 0 0]\n",
            " [0 0 0 ... 0 0 0]\n",
            " [0 0 0 ... 0 0 0]\n",
            " ...\n",
            " [0 0 0 ... 0 0 0]\n",
            " [0 0 0 ... 0 0 0]\n",
            " [0 0 0 ... 0 0 0]]\n"
          ]
        }
      ]
    },
    {
      "cell_type": "code",
      "source": [
        "sparse_matrix.shape"
      ],
      "metadata": {
        "colab": {
          "base_uri": "https://localhost:8080/"
        },
        "id": "a06vkT4mX1lH",
        "outputId": "18b95c1c-27fc-492a-cc43-9a1f5db92502"
      },
      "execution_count": 842,
      "outputs": [
        {
          "output_type": "execute_result",
          "data": {
            "text/plain": [
              "(5000, 31887)"
            ]
          },
          "metadata": {},
          "execution_count": 842
        }
      ]
    },
    {
      "cell_type": "code",
      "source": [
        "x_train, x_test, y_train, y_test = train_test_split(sparse_matrix, np.array(data['num']),test_size = 0.1, shuffle = True)\n",
        "print(len(x_train))\n",
        "x_train, x_val, y_train, y_val = train_test_split(x_train, y_train, test_size = 0.1/0.9, shuffle = True)\n",
        "print(len(x_train))"
      ],
      "metadata": {
        "colab": {
          "base_uri": "https://localhost:8080/"
        },
        "id": "437izCn8mgWc",
        "outputId": "f2c4c5e1-45ac-44d3-9287-813aed314bcf"
      },
      "execution_count": 843,
      "outputs": [
        {
          "output_type": "stream",
          "name": "stdout",
          "text": [
            "4500\n",
            "3999\n"
          ]
        }
      ]
    },
    {
      "cell_type": "code",
      "source": [
        "batch_size = 1000\n",
        "learning_rate = 0.005\n",
        "epochs = 10\n",
        "\n",
        "train_features = torch.Tensor(x_train)\n",
        "train_targets = torch.Tensor(y_train)\n",
        "val_features = torch.Tensor(x_val)\n",
        "val_targets = torch.Tensor(y_val)\n",
        "test_features = torch.Tensor(x_test)\n",
        "test_targets = torch.Tensor(y_test)\n",
        "\n",
        "train = TensorDataset(train_features, train_targets)\n",
        "test = TensorDataset(test_features, test_targets)\n",
        "\n",
        "train_loader = DataLoader(train, batch_size=batch_size, shuffle=True)\n",
        "test_loader = DataLoader(test, batch_size=batch_size, shuffle=True)\n",
        "test_loader_one = DataLoader(test, batch_size=1, shuffle=True)"
      ],
      "metadata": {
        "id": "VQLoRKb_deBE"
      },
      "execution_count": 844,
      "outputs": []
    },
    {
      "cell_type": "code",
      "source": [
        "class LogisticRegression(nn.Module):\n",
        "    def __init__(self):\n",
        "        super(LogisticRegression, self).__init__()\n",
        "        self.linear1 = nn.Linear(31887, 1000)\n",
        "        self.linear2 = nn.Linear(1000, 100)\n",
        "        self.linear3 = nn.Linear(100, 5)\n",
        "\n",
        "    def forward(self, x):\n",
        "        x = F.relu(self.linear1(x))\n",
        "        x = F.relu(self.linear2(x))\n",
        "        x = self.linear3(x)\n",
        "        return x"
      ],
      "metadata": {
        "id": "kcw99RPJX_V-"
      },
      "execution_count": 845,
      "outputs": []
    },
    {
      "cell_type": "code",
      "source": [
        "model = LogisticRegression()"
      ],
      "metadata": {
        "id": "qfw5jsZJYAfs"
      },
      "execution_count": 846,
      "outputs": []
    },
    {
      "cell_type": "code",
      "source": [
        "criterion = nn.CrossEntropyLoss()\n",
        "optimizer = torch.optim.Adam(params=model.parameters() , lr=learning_rate)"
      ],
      "metadata": {
        "id": "nv7UTYEYYFHX"
      },
      "execution_count": 847,
      "outputs": []
    },
    {
      "cell_type": "code",
      "source": [
        "model.train()\n",
        "losses = []\n",
        "for epoch in range(epochs):\n",
        "  loss_values = []\n",
        "  for x_batch, y_batch in train_loader:\n",
        "    optimizer.zero_grad()\n",
        "    y_pred = model(x_batch)\n",
        "    loss = criterion(y_pred, y_batch.long())\n",
        "    loss_values.append(loss.item())\n",
        "    pred = torch.max(y_pred, 1)[1].eq(y_batch).sum()\n",
        "    acc = pred * 100.0 / len(x_batch)\n",
        "    loss.backward()\n",
        "    optimizer.step()\n",
        "  losses.append(np.array(loss_values).mean())\n",
        "  print('Epoch: {}, Loss: {}, Accuracy: {}%'.format(epoch+1, losses[-1], acc.numpy()))"
      ],
      "metadata": {
        "colab": {
          "base_uri": "https://localhost:8080/"
        },
        "id": "Jvwiv6YRYI1L",
        "outputId": "a028d70f-8614-43be-82ae-fe8da06a3788"
      },
      "execution_count": 848,
      "outputs": [
        {
          "output_type": "stream",
          "name": "stdout",
          "text": [
            "Epoch: 1, Loss: 1.5049249231815338, Accuracy: 43.94394302368164%\n",
            "Epoch: 2, Loss: 1.043977290391922, Accuracy: 63.56356430053711%\n",
            "Epoch: 3, Loss: 0.599301353096962, Accuracy: 81.88188171386719%\n",
            "Epoch: 4, Loss: 0.2835136614739895, Accuracy: 93.69369506835938%\n",
            "Epoch: 5, Loss: 0.1063060350716114, Accuracy: 97.29729461669922%\n",
            "Epoch: 6, Loss: 0.03983177803456783, Accuracy: 99.0990982055664%\n",
            "Epoch: 7, Loss: 0.012510783271864057, Accuracy: 100.0%\n",
            "Epoch: 8, Loss: 0.0043568393448367715, Accuracy: 100.0%\n",
            "Epoch: 9, Loss: 0.0023269646626431495, Accuracy: 100.0%\n",
            "Epoch: 10, Loss: 0.0006692839961033314, Accuracy: 100.0%\n"
          ]
        }
      ]
    },
    {
      "cell_type": "code",
      "source": [
        "plt.plot(losses)\n",
        "plt.title('Loss Value test vs Epochs')\n",
        "plt.xlabel('Epochs')\n",
        "plt.ylabel('Loss')\n",
        "plt.legend(['Loss'])\n",
        "plt.show()"
      ],
      "metadata": {
        "colab": {
          "base_uri": "https://localhost:8080/",
          "height": 472
        },
        "id": "N5AzlCMCbWJo",
        "outputId": "842325ab-a3c5-422d-c668-744877ea375c"
      },
      "execution_count": 849,
      "outputs": [
        {
          "output_type": "display_data",
          "data": {
            "text/plain": [
              "<Figure size 640x480 with 1 Axes>"
            ],
            "image/png": "[encoded data removed]"
          },
          "metadata": {}
        }
      ]
    },
    {
      "cell_type": "code",
      "source": [
        "model.eval()\n",
        "with torch.no_grad():\n",
        "    y_pred = model(val_features)\n",
        "    loss = criterion(y_pred, val_targets.long())\n",
        "    pred = torch.max(y_pred, 1)[1].eq(val_targets).sum()\n",
        "    print (\"Accuracy : {}%\".format(100*pred/len(test_features)))"
      ],
      "metadata": {
        "colab": {
          "base_uri": "https://localhost:8080/"
        },
        "id": "wIwQEERjbdTc",
        "outputId": "10b51825-fcd4-4e0e-eb0d-604936399cfe"
      },
      "execution_count": 833,
      "outputs": [
        {
          "output_type": "stream",
          "name": "stdout",
          "text": [
            "Accuracy : 41.400001525878906%\n"
          ]
        }
      ]
    },
    {
      "cell_type": "code",
      "source": [
        "model.eval()\n",
        "val_loss_list = []\n",
        "with torch.no_grad():\n",
        "  for i in range(len(val_features)):\n",
        "    y_pred = model(val_features[i])\n",
        "    loss = criterion(y_pred, val_targets[i].long())\n",
        "    val_loss_list.append(loss)"
      ],
      "metadata": {
        "id": "rKdYtmCys0sN"
      },
      "execution_count": 835,
      "outputs": []
    },
    {
      "cell_type": "code",
      "source": [
        "plt.plot(val_loss_list)"
      ],
      "metadata": {
        "colab": {
          "base_uri": "https://localhost:8080/",
          "height": 447
        },
        "id": "gBNwhwGOt0XY",
        "outputId": "f91ae749-ed0d-4707-8890-aa3f4ce09dc4"
      },
      "execution_count": 836,
      "outputs": [
        {
          "output_type": "execute_result",
          "data": {
            "text/plain": [
              "[<matplotlib.lines.Line2D at 0x7d5f02618490>]"
            ]
          },
          "metadata": {},
          "execution_count": 836
        },
        {
          "output_type": "display_data",
          "data": {
            "text/plain": [
              "<Figure size 640x480 with 1 Axes>"
            ],
            "image/png": "[encoded data removed]"
          },
          "metadata": {}
        }
      ]
    },
    {
      "cell_type": "code",
      "source": [
        "test_1 = cv.fit_transform(data['text']).toarray()\n",
        "model.eval()\n",
        "with torch.no_grad():\n",
        "    y_pred = model(torch.Tensor(test_1[4105]))\n",
        "    print(y_pred)\n",
        "    # loss = criterion(y_pred, torch.Ten)\n",
        "    # pred = torch.max(y_pred, 1)[1].eq(y_test).sum()\n",
        "    # print (\"Accuracy : {}%\".format(100*pred/len(x_test)))\n"
      ],
      "metadata": {
        "colab": {
          "base_uri": "https://localhost:8080/"
        },
        "id": "GXGConRz733q",
        "outputId": "eff18ba9-18b2-47fd-dd6c-85838cc35b69"
      },
      "execution_count": 812,
      "outputs": [
        {
          "output_type": "stream",
          "name": "stdout",
          "text": [
            "tensor([-62.3033, -45.9968, -13.0944,   6.3681,  48.4439])\n"
          ]
        }
      ]
    },
    {
      "cell_type": "code",
      "source": [
        "torch.save(model.state_dict(), \"model-b1000-lr0005-e10.pt\")"
      ],
      "metadata": {
        "id": "U80ZTnWpBOnU"
      },
      "execution_count": 850,
      "outputs": []
    },
    {
      "cell_type": "code",
      "source": [
        "#model.load_state_dict(torch.load(\"model-b1000-lr0001-e10.pt\"))\n"
      ],
      "metadata": {
        "colab": {
          "base_uri": "https://localhost:8080/"
        },
        "id": "QRPZ_9lUvAf2",
        "outputId": "1553787c-0eec-4627-c75a-426b45a663bf"
      },
      "execution_count": 666,
      "outputs": [
        {
          "output_type": "execute_result",
          "data": {
            "text/plain": [
              "<All keys matched successfully>"
            ]
          },
          "metadata": {},
          "execution_count": 666
        }
      ]
    },
    {
      "cell_type": "code",
      "source": [
        "print(type(x_val[6]))\n",
        "count = 0\n",
        "for text in sparse_matrix:\n",
        "  if np.array_equal(x_val[6], text):\n",
        "    print(text)\n",
        "    print(count)\n",
        "    break\n",
        "  else:\n",
        "    count+=1\n",
        "\n",
        "print(data.iloc[count])\n",
        "model.eval()\n",
        "with torch.no_grad():\n",
        "  y_pred = model(torch.Tensor(x_val[6]))\n",
        "  print(y_pred)\n",
        "# model.eval()\n",
        "# with torch.no_grad():\n",
        "#     y_pred = model(torch.Tensor(test_rand_vect))\n",
        "#     max_index = torch.argmax(y_pred)\n"
      ],
      "metadata": {
        "colab": {
          "base_uri": "https://localhost:8080/"
        },
        "id": "pVOXX3WBwNMx",
        "outputId": "f22ca953-5b4d-4762-fbf1-692144895ed7"
      },
      "execution_count": 834,
      "outputs": [
        {
          "output_type": "stream",
          "name": "stdout",
          "text": [
            "<class 'numpy.ndarray'>\n",
            "[0 0 0 ... 0 0 0]\n",
            "888\n",
            "num                                                     0\n",
            "text    заказывать утюг подарок родственница получение...\n",
            "Name: 888, dtype: object\n",
            "tensor([ -0.2611,   4.1250,   1.1897,  -4.7048, -14.4399])\n"
          ]
        }
      ]
    },
    {
      "cell_type": "code",
      "source": [
        "def text_update(text: str) -> list[str]:\n",
        "    \"\"\"Function remove from text punctuation marks and split it\n",
        "\n",
        "    Args:\n",
        "        text (str): text for update\n",
        "\n",
        "    Returns:\n",
        "        List[str]: List with words from text\n",
        "    \"\"\"\n",
        "    text = re.sub(r\"[^\\w\\s]\", \"\", text)\n",
        "    text = text.split()\n",
        "    return ' '.join(text)\n",
        "\n",
        "def preprocess_text(text: str) -> list[str]:\n",
        "    \"\"\"Function gets text, lemmatize them and removes stopwords\n",
        "\n",
        "    Args:\n",
        "        text (str): text for preprocess\n",
        "\n",
        "    Returns:\n",
        "        List[str]: preprocessed text\n",
        "    \"\"\"\n",
        "    mystem = Mystem()\n",
        "    russian_stopwords = stopwords.words(\"russian\")\n",
        "    tokens = mystem.lemmatize(text.lower())\n",
        "    tokens = [token for token in tokens if token not in russian_stopwords]\n",
        "    text = \" \".join(tokens)\n",
        "    return text.split()\n",
        "\n",
        "def my_vect(text:str):\n",
        "  tensor = 31887*[0]\n",
        "  text = preprocess_text(text_update(text))\n",
        "  for word in set(text):\n",
        "    if word in words:\n",
        "      tensor[words.index(word)] = text.count(word)\n",
        "  return tensor\n",
        "\n"
      ],
      "metadata": {
        "id": "tj9ZJRxDMLKO"
      },
      "execution_count": 746,
      "outputs": []
    },
    {
      "cell_type": "code",
      "source": [
        "def predict(text: str):\n",
        "  model.eval()\n",
        "  with torch.no_grad():\n",
        "    y_pred = model(torch.Tensor(my_vect(text)))\n",
        "    print(type(y_pred))\n",
        "    return(y_pred)\n",
        "\n",
        "print(predict('Время от времени пользуемся услугами этого интернет магазина, особенно было актуально в период, лакдаун когда все магазины были закрыты. А одежда и обувь была нужна. Как раз на помощь пришёл магазин Wildberries. Но и до всяких корона вирусов мы ей пользовались.'))"
      ],
      "metadata": {
        "colab": {
          "base_uri": "https://localhost:8080/"
        },
        "id": "wvu2MnhxYx1w",
        "outputId": "bf47eb5f-a537-4950-cbca-022c925f365f"
      },
      "execution_count": 851,
      "outputs": [
        {
          "output_type": "stream",
          "name": "stdout",
          "text": [
            "<class 'torch.Tensor'>\n",
            "tensor([-4.8087,  1.9456, -2.2027, -2.9256,  6.8325])\n"
          ]
        }
      ]
    }
  ]
}
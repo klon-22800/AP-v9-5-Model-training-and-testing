{
  "nbformat": 4,
  "nbformat_minor": 0,
  "metadata": {
    "colab": {
      "provenance": []
    },
    "kernelspec": {
      "name": "python3",
      "display_name": "Python 3"
    },
    "language_info": {
      "name": "python"
    }
  },
  "cells": [
    {
      "cell_type": "markdown",
      "source": [
        "# AP-v9-5-Model training and testing"
      ],
      "metadata": {
        "id": "i1I2ubS4PUIW"
      }
    },
    {
      "cell_type": "code",
      "source": [
        "import re\n",
        "\n",
        "import torch\n",
        "import pandas as pd\n",
        "import torch.nn as nn\n",
        "import torch.nn.functional as F\n",
        "import numpy as np\n",
        "import matplotlib.pyplot as plt\n",
        "import nltk\n",
        "\n",
        "from typing import List\n",
        "\n",
        "from torch.utils.data import TensorDataset, DataLoader\n",
        "from sklearn.feature_extraction.text import CountVectorizer\n",
        "from sklearn.model_selection import train_test_split\n",
        "from nltk.corpus import stopwords\n",
        "from pymystem3 import Mystem"
      ],
      "metadata": {
        "id": "Whz0qJtaXfen"
      },
      "execution_count": 147,
      "outputs": []
    },
    {
      "cell_type": "markdown",
      "source": [
        "Loading dataset and write to pandas.Dataframe"
      ],
      "metadata": {
        "id": "p74-GaxLPcan"
      }
    },
    {
      "cell_type": "code",
      "source": [
        "df = pd.read_csv('/content/drive/MyDrive/Colab Notebooks/full_data_lemm.csv')\n",
        "df = df.drop(df.columns[[0]], axis = 1)\n",
        "df.iloc[:,0]-=1\n",
        "data = df.dropna()\n",
        "\n",
        "print(data)"
      ],
      "metadata": {
        "colab": {
          "base_uri": "https://localhost:8080/"
        },
        "id": "aRW6sDu2msp3",
        "outputId": "81d50246-5c4f-4b4a-bedf-c2b530ce02df"
      },
      "execution_count": 148,
      "outputs": [
        {
          "output_type": "stream",
          "name": "stdout",
          "text": [
            "      num                                               text\n",
            "0       0  заказывать четыре кресло салон сентябрь привоз...\n",
            "1       0  вайбериз это бандитский организация заказывать...\n",
            "2       0  добрый время сутки читать данный текст давний ...\n",
            "3       0  приветствовать год активно заказывать wb разли...\n",
            "4       0  добрый день сталкиваться платформа вайлдберис ...\n",
            "...   ...                                                ...\n",
            "4995    4  последний время время изоляция находить отличн...\n",
            "4996    4  давно пользоваться услуга данный маркетплейс н...\n",
            "4997    4  интернет магазин отличный пользоваться протяже...\n",
            "4998    4  очень крутой сайт приложение открывать недавно...\n",
            "4999    4  добрый день понимать ругать сервис минус наход...\n",
            "\n",
            "[5000 rows x 2 columns]\n"
          ]
        }
      ]
    },
    {
      "cell_type": "code",
      "source": [
        "max_words = 31887\n",
        "cv = CountVectorizer(max_features=max_words)\n",
        "sparse_matrix = cv.fit_transform(data['text']).toarray()\n",
        "feature_names = cv.get_feature_names_out()\n",
        "words = feature_names.tolist()\n",
        "\n",
        "print(feature_names)\n",
        "print(sparse_matrix.shape)"
      ],
      "metadata": {
        "id": "masbtEuaXjmp",
        "colab": {
          "base_uri": "https://localhost:8080/"
        },
        "outputId": "6a4432c8-cec5-491e-fb4f-008cf53a3755"
      },
      "execution_count": 149,
      "outputs": [
        {
          "output_type": "stream",
          "name": "stdout",
          "text": [
            "['acasta' 'acer' 'acoola' ... 'ячменный' 'ящик' 'ящикя']\n",
            "(5000, 31887)\n"
          ]
        }
      ]
    },
    {
      "cell_type": "markdown",
      "source": [
        "Spliting the dataset in the ratio train, test, val: 80,10,10"
      ],
      "metadata": {
        "id": "SmJh96GrPkR7"
      }
    },
    {
      "cell_type": "code",
      "source": [
        "x_train, x_test, y_train, y_test = train_test_split(sparse_matrix, np.array(data['num']),test_size = 0.1, shuffle = True)\n",
        "print(len(x_train))\n",
        "x_train, x_val, y_train, y_val = train_test_split(x_train, y_train, test_size = 0.1/0.9, shuffle = True)\n",
        "print(len(x_train))"
      ],
      "metadata": {
        "colab": {
          "base_uri": "https://localhost:8080/"
        },
        "id": "437izCn8mgWc",
        "outputId": "ae060c12-cdb8-4898-e562-dadf88c099f2"
      },
      "execution_count": 150,
      "outputs": [
        {
          "output_type": "stream",
          "name": "stdout",
          "text": [
            "4500\n",
            "3999\n"
          ]
        }
      ]
    },
    {
      "cell_type": "markdown",
      "source": [
        "Casting pd.array to tensor and creating TensorDataset and DataLoader"
      ],
      "metadata": {
        "id": "kQdjmulnPpuF"
      }
    },
    {
      "cell_type": "code",
      "source": [
        "batch_size = 200\n",
        "learning_rate = 0.01\n",
        "epochs = 5\n",
        "\n",
        "train_features = torch.Tensor(x_train)\n",
        "train_targets = torch.Tensor(y_train)\n",
        "val_features = torch.Tensor(x_val)\n",
        "val_targets = torch.Tensor(y_val)\n",
        "test_features = torch.Tensor(x_test)\n",
        "test_targets = torch.Tensor(y_test)\n",
        "\n",
        "train = TensorDataset(train_features, train_targets)\n",
        "test = TensorDataset(test_features, test_targets)\n",
        "\n",
        "train_loader = DataLoader(train, batch_size=batch_size, shuffle=True)"
      ],
      "metadata": {
        "id": "VQLoRKb_deBE"
      },
      "execution_count": 151,
      "outputs": []
    },
    {
      "cell_type": "markdown",
      "source": [
        "Creating a LogisticRegression class"
      ],
      "metadata": {
        "id": "8HhUiMz9PspO"
      }
    },
    {
      "cell_type": "code",
      "source": [
        "class LogisticRegression(nn.Module):\n",
        "    def __init__(self):\n",
        "        super(LogisticRegression, self).__init__()\n",
        "        self.linear1 = nn.Linear(31887, 1000)\n",
        "        self.linear2 = nn.Linear(1000, 100)\n",
        "        self.linear3 = nn.Linear(100, 5)\n",
        "\n",
        "    def forward(self, x):\n",
        "        x = F.relu(self.linear1(x))\n",
        "        x = F.relu(self.linear2(x))\n",
        "        x = self.linear3(x)\n",
        "        return x"
      ],
      "metadata": {
        "id": "kcw99RPJX_V-"
      },
      "execution_count": 152,
      "outputs": []
    },
    {
      "cell_type": "code",
      "source": [
        "model = LogisticRegression()\n",
        "criterion = nn.CrossEntropyLoss()\n",
        "optimizer = torch.optim.Adam(params=model.parameters() , lr=learning_rate)"
      ],
      "metadata": {
        "id": "nv7UTYEYYFHX"
      },
      "execution_count": 153,
      "outputs": []
    },
    {
      "cell_type": "code",
      "source": [
        "model.load_state_dict(torch.load(\"/content/drive/MyDrive/Colab Notebooks/models/model-b1000-lr0001-e10.pt\"))"
      ],
      "metadata": {
        "colab": {
          "base_uri": "https://localhost:8080/"
        },
        "id": "rYVjO7Ua7U1U",
        "outputId": "5be223d3-8e36-4bf2-ae13-b8f6832250e8"
      },
      "execution_count": 131,
      "outputs": [
        {
          "output_type": "execute_result",
          "data": {
            "text/plain": [
              "<All keys matched successfully>"
            ]
          },
          "metadata": {},
          "execution_count": 131
        }
      ]
    },
    {
      "cell_type": "markdown",
      "source": [
        "Train loop"
      ],
      "metadata": {
        "id": "D1MsmUZ2P1Pk"
      }
    },
    {
      "cell_type": "code",
      "source": [
        "model.train()\n",
        "losses = []\n",
        "for epoch in range(epochs):\n",
        "  loss_values = []\n",
        "  for x_batch, y_batch in train_loader:\n",
        "    optimizer.zero_grad()\n",
        "    y_pred = model(x_batch)\n",
        "    loss = criterion(y_pred, y_batch.long())\n",
        "    loss_values.append(loss.item())\n",
        "    pred = torch.max(y_pred, 1)[1].eq(y_batch).sum()\n",
        "    acc = pred * 100.0 / len(x_batch)\n",
        "    loss.backward() #градиент текущего тензора\n",
        "    optimizer.step()\n",
        "  losses.append(np.array(loss_values).mean())\n",
        "  print('Epoch: {}, Loss: {}, Accuracy: {}%'.format(epoch+1, losses[-1], acc.numpy()))"
      ],
      "metadata": {
        "colab": {
          "base_uri": "https://localhost:8080/"
        },
        "id": "Jvwiv6YRYI1L",
        "outputId": "ff73d253-e71a-4879-c99d-3d9e2b4ba0d7"
      },
      "execution_count": 154,
      "outputs": [
        {
          "output_type": "stream",
          "name": "stdout",
          "text": [
            "Epoch: 1, Loss: 1.3747578978538513, Accuracy: 49.74874496459961%\n",
            "Epoch: 2, Loss: 0.7373016983270645, Accuracy: 75.87939453125%\n",
            "Epoch: 3, Loss: 0.24359095022082328, Accuracy: 90.95477294921875%\n",
            "Epoch: 4, Loss: 0.07279306910932064, Accuracy: 97.98995208740234%\n",
            "Epoch: 5, Loss: 0.01142207479570061, Accuracy: 98.9949722290039%\n"
          ]
        }
      ]
    },
    {
      "cell_type": "markdown",
      "source": [
        "Loss Value test vs Epochs plot"
      ],
      "metadata": {
        "id": "tEzBMv2lP4rT"
      }
    },
    {
      "cell_type": "code",
      "source": [
        "plt.plot(losses)\n",
        "plt.title('Loss Value test vs Epochs')\n",
        "plt.xlabel('Epochs')\n",
        "plt.ylabel('Loss')\n",
        "plt.legend(['Loss'])\n",
        "plt.show()"
      ],
      "metadata": {
        "colab": {
          "base_uri": "https://localhost:8080/",
          "height": 472
        },
        "id": "N5AzlCMCbWJo",
        "outputId": "9d2000bf-9df8-4f32-8171-04fc6c83ecf2"
      },
      "execution_count": 155,
      "outputs": [
        {
          "output_type": "display_data",
          "data": {
            "text/plain": [
              "<Figure size 640x480 with 1 Axes>"
            ],
            "image/png": "[encoded data removed]"
          },
          "metadata": {}
        }
      ]
    },
    {
      "cell_type": "markdown",
      "source": [
        "Validation loss plot"
      ],
      "metadata": {
        "id": "fbbNrP9kQMgK"
      }
    },
    {
      "cell_type": "code",
      "source": [
        "model.eval()\n",
        "val_loss_list = []\n",
        "with torch.no_grad():\n",
        "  for i in range(len(val_features)):\n",
        "    y_pred = model(val_features[i])\n",
        "    loss = criterion(y_pred, val_targets[i].long())\n",
        "    val_loss_list.append(loss)\n",
        "plt.plot(val_loss_list)"
      ],
      "metadata": {
        "id": "rKdYtmCys0sN",
        "colab": {
          "base_uri": "https://localhost:8080/",
          "height": 447
        },
        "outputId": "2c25f28d-4962-4c41-d3fb-17a2ebc16614"
      },
      "execution_count": 156,
      "outputs": [
        {
          "output_type": "execute_result",
          "data": {
            "text/plain": [
              "[<matplotlib.lines.Line2D at 0x7a7b56678d60>]"
            ]
          },
          "metadata": {},
          "execution_count": 156
        },
        {
          "output_type": "display_data",
          "data": {
            "text/plain": [
              "<Figure size 640x480 with 1 Axes>"
            ],
            "image/png": "[encoded data removed]"
          },
          "metadata": {}
        }
      ]
    },
    {
      "cell_type": "markdown",
      "source": [
        "Сhecking the model on a validation set"
      ],
      "metadata": {
        "id": "bmM-UgctQPhz"
      }
    },
    {
      "cell_type": "code",
      "source": [
        "model.eval()\n",
        "with torch.no_grad():\n",
        "    y_pred = model(val_features)\n",
        "    loss = criterion(y_pred, val_targets.long())\n",
        "    pred = torch.max(y_pred, 1)[1].eq(val_targets).sum()\n",
        "    print (\"Accuracy : {}%\".format(100*pred/len(test_features)))"
      ],
      "metadata": {
        "colab": {
          "base_uri": "https://localhost:8080/"
        },
        "id": "wIwQEERjbdTc",
        "outputId": "09c42d0f-3881-4946-c744-74e81eaf10e7"
      },
      "execution_count": 157,
      "outputs": [
        {
          "output_type": "stream",
          "name": "stdout",
          "text": [
            "Accuracy : 42.400001525878906%\n"
          ]
        }
      ]
    },
    {
      "cell_type": "markdown",
      "source": [
        "Cheking the model on random feedback from original dataset"
      ],
      "metadata": {
        "id": "Z7-4Ln2WQYQW"
      }
    },
    {
      "cell_type": "code",
      "source": [
        "test_1 = cv.fit_transform(data['text']).toarray()\n",
        "model.eval()\n",
        "with torch.no_grad():\n",
        "    y_pred = model(torch.Tensor(test_1[4105]))\n",
        "    print(y_pred)"
      ],
      "metadata": {
        "colab": {
          "base_uri": "https://localhost:8080/"
        },
        "id": "GXGConRz733q",
        "outputId": "b614f791-e68a-4c57-cc08-d98df968db00"
      },
      "execution_count": 158,
      "outputs": [
        {
          "output_type": "stream",
          "name": "stdout",
          "text": [
            "tensor([-24.2649, -29.6689,  -0.0922, -12.1232,  52.0150])\n"
          ]
        }
      ]
    },
    {
      "cell_type": "code",
      "source": [
        "print(type(x_val[10]))\n",
        "count = 0\n",
        "for text in sparse_matrix:\n",
        "  if np.array_equal(x_val[10], text):\n",
        "    print(text)\n",
        "    print(count)\n",
        "    break\n",
        "  else:\n",
        "    count+=1\n",
        "\n",
        "print(data.iloc[count])\n",
        "model.eval()\n",
        "with torch.no_grad():\n",
        "  y_pred = model(torch.Tensor(x_val[10]))\n",
        "  print(y_pred)\n"
      ],
      "metadata": {
        "colab": {
          "base_uri": "https://localhost:8080/"
        },
        "id": "pVOXX3WBwNMx",
        "outputId": "c4d4d659-bae9-4a29-a40d-4ddce1aa8efe"
      },
      "execution_count": 159,
      "outputs": [
        {
          "output_type": "stream",
          "name": "stdout",
          "text": [
            "<class 'numpy.ndarray'>\n",
            "[0 0 0 ... 0 0 0]\n",
            "543\n",
            "num                                                     0\n",
            "text    купить платье както данный интернет магазин ра...\n",
            "Name: 543, dtype: object\n",
            "tensor([ 17.5194,   6.0419,  -5.6884, -14.1160, -24.4197])\n"
          ]
        }
      ]
    },
    {
      "cell_type": "markdown",
      "source": [
        "Saving the model"
      ],
      "metadata": {
        "id": "q_LTIlH-Qffa"
      }
    },
    {
      "cell_type": "code",
      "source": [
        "torch.save(model.state_dict(), \"/content/drive/MyDrive/Colab Notebooks/models/model-b1000-lr0001-e10.pt\")"
      ],
      "metadata": {
        "id": "U80ZTnWpBOnU"
      },
      "execution_count": 123,
      "outputs": []
    },
    {
      "cell_type": "markdown",
      "source": [
        "Functions for creating your own vector from random feedback"
      ],
      "metadata": {
        "id": "0exeACFbQhW3"
      }
    },
    {
      "cell_type": "code",
      "source": [
        "def text_update(text: str) -> List[str]:\n",
        "    \"\"\"Function remove from text punctuation marks and split it\n",
        "\n",
        "    Args:\n",
        "        text (str): text for update\n",
        "\n",
        "    Returns:\n",
        "        List[str]: List with words from text\n",
        "    \"\"\"\n",
        "    text = re.sub(r\"[^\\w\\s]\", \"\", text)\n",
        "    text = text.split()\n",
        "    return ' '.join(text)\n",
        "\n",
        "def preprocess_text(text: str) -> List[str]:\n",
        "    \"\"\"Function gets text, lemmatize them and removes stopwords\n",
        "\n",
        "    Args:\n",
        "        text (str): text for preprocess\n",
        "\n",
        "    Returns:\n",
        "        List[str]: preprocessed text\n",
        "    \"\"\"\n",
        "    mystem = Mystem()\n",
        "    nltk.download('stopwords')\n",
        "    russian_stopwords = stopwords.words(\"russian\")\n",
        "    tokens = mystem.lemmatize(text.lower())\n",
        "    tokens = [token for token in tokens if token not in russian_stopwords]\n",
        "    text = \" \".join(tokens)\n",
        "    return text.split()\n",
        "\n",
        "def my_vect(text:str)->List[float]:\n",
        "  \"\"\"function vectorizes text\n",
        "\n",
        "    Args:\n",
        "        text (str): text for loading into the model\n",
        "\n",
        "    Returns:\n",
        "        List[float]: List of words values\n",
        "    \"\"\"\n",
        "  tensor = 31887*[0]\n",
        "  text = preprocess_text(text_update(text))\n",
        "  for word in set(text):\n",
        "    if word in words:\n",
        "      tensor[words.index(word)] = text.count(word)\n",
        "  return tensor"
      ],
      "metadata": {
        "id": "tj9ZJRxDMLKO"
      },
      "execution_count": 141,
      "outputs": []
    },
    {
      "cell_type": "markdown",
      "source": [
        "Function for checking the model against random feedback"
      ],
      "metadata": {
        "id": "jxOEVfr5Qjex"
      }
    },
    {
      "cell_type": "code",
      "source": [
        "def predict(text: str)->torch.Tensor:\n",
        "  \"\"\"_summary_The function converts the text into a tensor and loads it into the model for testing\n",
        "\n",
        "  Args:\n",
        "      text (str): text for testing\n",
        "\n",
        "  Returns:\n",
        "      torch.Tensor: tensor of predictions\n",
        "  \"\"\"\n",
        "  model.eval()\n",
        "  with torch.no_grad():\n",
        "    y_pred = model(torch.Tensor(my_vect(text)))\n",
        "    print(type(y_pred))\n",
        "    return(y_pred)\n",
        "\n",
        "print(predict('Время от времени пользуемся услугами этого интернет магазина, особенно было актуально в период, лакдаун когда все магазины были закрыты. А одежда и обувь была нужна. Как раз на помощь пришёл магазин Wildberries. Но и до всяких корона вирусов мы ей пользовались.'))"
      ],
      "metadata": {
        "colab": {
          "base_uri": "https://localhost:8080/"
        },
        "id": "wvu2MnhxYx1w",
        "outputId": "db97d8eb-64f4-4bc4-f472-87ff9a435137"
      },
      "execution_count": 136,
      "outputs": [
        {
          "output_type": "stream",
          "name": "stderr",
          "text": [
            "[nltk_data] Downloading package stopwords to /root/nltk_data...\n",
            "[nltk_data]   Package stopwords is already up-to-date!\n"
          ]
        },
        {
          "output_type": "stream",
          "name": "stdout",
          "text": [
            "<class 'torch.Tensor'>\n",
            "tensor([ 0.6547,  1.4441, -1.0223, -3.5154,  1.7123])\n"
          ]
        }
      ]
    }
  ]
}